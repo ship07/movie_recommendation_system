{
 "cells": [
  {
   "cell_type": "code",
   "execution_count": 15,
   "metadata": {},
   "outputs": [
    {
     "name": "stdout",
     "output_type": "stream",
     "text": [
      "Requirement already satisfied: lxml in c:\\users\\shipr\\anaconda3\\lib\\site-packages (4.4.1)\n"
     ]
    }
   ],
   "source": [
    "!pip install lxml"
   ]
  },
  {
   "cell_type": "code",
   "execution_count": 16,
   "metadata": {},
   "outputs": [
    {
     "name": "stdout",
     "output_type": "stream",
     "text": [
      "Requirement already satisfied: beautifulsoup4 in c:\\users\\shipr\\anaconda3\\lib\\site-packages (4.8.0)\n",
      "Requirement already satisfied: soupsieve>=1.2 in c:\\users\\shipr\\anaconda3\\lib\\site-packages (from beautifulsoup4) (1.9.3)\n"
     ]
    }
   ],
   "source": [
    "!pip install beautifulsoup4"
   ]
  },
  {
   "cell_type": "code",
   "execution_count": 17,
   "metadata": {},
   "outputs": [],
   "source": [
    "import pandas as pd\n",
    "import numpy as np\n",
    "import bs4 as bs\n",
    "import requests\n",
    "import urllib.request"
   ]
  },
  {
   "cell_type": "code",
   "execution_count": 18,
   "metadata": {},
   "outputs": [],
   "source": [
    "url=\"https://en.wikipedia.org/wiki/List_of_American_films_of_2020\""
   ]
  },
  {
   "cell_type": "code",
   "execution_count": 21,
   "metadata": {},
   "outputs": [],
   "source": [
    "source=urllib.request.urlopen(url).read()"
   ]
  },
  {
   "cell_type": "code",
   "execution_count": 22,
   "metadata": {},
   "outputs": [],
   "source": [
    "soup=bs.BeautifulSoup(source,'lxml') "
   ]
  },
  {
   "cell_type": "code",
   "execution_count": 23,
   "metadata": {},
   "outputs": [],
   "source": [
    "table_2020=soup.find_all('table',class_='wikitable')"
   ]
  },
  {
   "cell_type": "code",
   "execution_count": 29,
   "metadata": {},
   "outputs": [],
   "source": [
    "df1=pd.read_html(str(table_2020[1]))[0]\n",
    "df2=pd.read_html(str(table_2020[2]))[0]\n",
    "df3=pd.read_html(str(table_2020[3]))[0]\n",
    "df4=pd.read_html(str(table_2020[4]))[0]"
   ]
  },
  {
   "cell_type": "code",
   "execution_count": 30,
   "metadata": {},
   "outputs": [],
   "source": [
    "df_2020=pd.concat([df1,df2,df3,df4],axis=0)"
   ]
  },
  {
   "cell_type": "code",
   "execution_count": 31,
   "metadata": {},
   "outputs": [
    {
     "data": {
      "text/html": [
       "<div>\n",
       "<style scoped>\n",
       "    .dataframe tbody tr th:only-of-type {\n",
       "        vertical-align: middle;\n",
       "    }\n",
       "\n",
       "    .dataframe tbody tr th {\n",
       "        vertical-align: top;\n",
       "    }\n",
       "\n",
       "    .dataframe thead th {\n",
       "        text-align: right;\n",
       "    }\n",
       "</style>\n",
       "<table border=\"1\" class=\"dataframe\">\n",
       "  <thead>\n",
       "    <tr style=\"text-align: right;\">\n",
       "      <th></th>\n",
       "      <th>Opening</th>\n",
       "      <th>Opening.1</th>\n",
       "      <th>Title</th>\n",
       "      <th>Production company</th>\n",
       "      <th>Cast and crew</th>\n",
       "      <th>Ref.</th>\n",
       "    </tr>\n",
       "  </thead>\n",
       "  <tbody>\n",
       "    <tr>\n",
       "      <td>0</td>\n",
       "      <td>JANUARY</td>\n",
       "      <td>3.0</td>\n",
       "      <td>The Grudge</td>\n",
       "      <td>Screen Gems / Stage 6 Films / Ghost House Pict...</td>\n",
       "      <td>Nicolas Pesce (director/screenplay); Andrea Ri...</td>\n",
       "      <td>[2]</td>\n",
       "    </tr>\n",
       "    <tr>\n",
       "      <td>1</td>\n",
       "      <td>JANUARY</td>\n",
       "      <td>10.0</td>\n",
       "      <td>Underwater</td>\n",
       "      <td>20th Century Fox / TSG Entertainment / Chernin...</td>\n",
       "      <td>William Eubank (director); Brian Duffield, Ada...</td>\n",
       "      <td>[3]</td>\n",
       "    </tr>\n",
       "    <tr>\n",
       "      <td>2</td>\n",
       "      <td>JANUARY</td>\n",
       "      <td>10.0</td>\n",
       "      <td>Like a Boss</td>\n",
       "      <td>Paramount Pictures</td>\n",
       "      <td>Miguel Arteta (director); Sam Pitman, Adam Col...</td>\n",
       "      <td>[4]</td>\n",
       "    </tr>\n",
       "    <tr>\n",
       "      <td>3</td>\n",
       "      <td>JANUARY</td>\n",
       "      <td>10.0</td>\n",
       "      <td>Inherit the Viper</td>\n",
       "      <td>Barry Films / Tycor International Film Company</td>\n",
       "      <td>Anthony Jerjen (director); Andrew Crabtree (sc...</td>\n",
       "      <td>[5]</td>\n",
       "    </tr>\n",
       "    <tr>\n",
       "      <td>4</td>\n",
       "      <td>JANUARY</td>\n",
       "      <td>10.0</td>\n",
       "      <td>The Sonata</td>\n",
       "      <td>Screen Media Films</td>\n",
       "      <td>Andrew Desmond (director/screenplay); Arthur M...</td>\n",
       "      <td>[6]</td>\n",
       "    </tr>\n",
       "    <tr>\n",
       "      <td>...</td>\n",
       "      <td>...</td>\n",
       "      <td>...</td>\n",
       "      <td>...</td>\n",
       "      <td>...</td>\n",
       "      <td>...</td>\n",
       "      <td>...</td>\n",
       "    </tr>\n",
       "    <tr>\n",
       "      <td>34</td>\n",
       "      <td>DECEMBER</td>\n",
       "      <td>18.0</td>\n",
       "      <td>Coming 2 America</td>\n",
       "      <td>Paramount Pictures</td>\n",
       "      <td>Craig Brewer (director); Kenya Barris, Barry W...</td>\n",
       "      <td>[173]</td>\n",
       "    </tr>\n",
       "    <tr>\n",
       "      <td>35</td>\n",
       "      <td>DECEMBER</td>\n",
       "      <td>18.0</td>\n",
       "      <td>The Father</td>\n",
       "      <td>Sony Pictures Classics / Film4</td>\n",
       "      <td>Florian Zeller (director/screenplay); Christop...</td>\n",
       "      <td>NaN</td>\n",
       "    </tr>\n",
       "    <tr>\n",
       "      <td>36</td>\n",
       "      <td>DECEMBER</td>\n",
       "      <td>25.0</td>\n",
       "      <td>Wonder Woman 1984</td>\n",
       "      <td>Warner Bros. Pictures / DC Films / The Stone Q...</td>\n",
       "      <td>Patty Jenkins (director/screenplay); Geoff Joh...</td>\n",
       "      <td>[174]</td>\n",
       "    </tr>\n",
       "    <tr>\n",
       "      <td>37</td>\n",
       "      <td>DECEMBER</td>\n",
       "      <td>25.0</td>\n",
       "      <td>News of the World</td>\n",
       "      <td>Universal Pictures</td>\n",
       "      <td>Paul Greengrass (director/screenplay); Luke Da...</td>\n",
       "      <td>[175]</td>\n",
       "    </tr>\n",
       "    <tr>\n",
       "      <td>38</td>\n",
       "      <td>DECEMBER</td>\n",
       "      <td>NaN</td>\n",
       "      <td>NaN</td>\n",
       "      <td>NaN</td>\n",
       "      <td>NaN</td>\n",
       "      <td>NaN</td>\n",
       "    </tr>\n",
       "  </tbody>\n",
       "</table>\n",
       "<p>182 rows × 6 columns</p>\n",
       "</div>"
      ],
      "text/plain": [
       "     Opening  Opening.1              Title  \\\n",
       "0    JANUARY        3.0         The Grudge   \n",
       "1    JANUARY       10.0         Underwater   \n",
       "2    JANUARY       10.0        Like a Boss   \n",
       "3    JANUARY       10.0  Inherit the Viper   \n",
       "4    JANUARY       10.0         The Sonata   \n",
       "..       ...        ...                ...   \n",
       "34  DECEMBER       18.0   Coming 2 America   \n",
       "35  DECEMBER       18.0         The Father   \n",
       "36  DECEMBER       25.0  Wonder Woman 1984   \n",
       "37  DECEMBER       25.0  News of the World   \n",
       "38  DECEMBER        NaN                NaN   \n",
       "\n",
       "                                   Production company  \\\n",
       "0   Screen Gems / Stage 6 Films / Ghost House Pict...   \n",
       "1   20th Century Fox / TSG Entertainment / Chernin...   \n",
       "2                                  Paramount Pictures   \n",
       "3      Barry Films / Tycor International Film Company   \n",
       "4                                  Screen Media Films   \n",
       "..                                                ...   \n",
       "34                                 Paramount Pictures   \n",
       "35                     Sony Pictures Classics / Film4   \n",
       "36  Warner Bros. Pictures / DC Films / The Stone Q...   \n",
       "37                                 Universal Pictures   \n",
       "38                                                NaN   \n",
       "\n",
       "                                        Cast and crew   Ref.  \n",
       "0   Nicolas Pesce (director/screenplay); Andrea Ri...    [2]  \n",
       "1   William Eubank (director); Brian Duffield, Ada...    [3]  \n",
       "2   Miguel Arteta (director); Sam Pitman, Adam Col...    [4]  \n",
       "3   Anthony Jerjen (director); Andrew Crabtree (sc...    [5]  \n",
       "4   Andrew Desmond (director/screenplay); Arthur M...    [6]  \n",
       "..                                                ...    ...  \n",
       "34  Craig Brewer (director); Kenya Barris, Barry W...  [173]  \n",
       "35  Florian Zeller (director/screenplay); Christop...    NaN  \n",
       "36  Patty Jenkins (director/screenplay); Geoff Joh...  [174]  \n",
       "37  Paul Greengrass (director/screenplay); Luke Da...  [175]  \n",
       "38                                                NaN    NaN  \n",
       "\n",
       "[182 rows x 6 columns]"
      ]
     },
     "execution_count": 31,
     "metadata": {},
     "output_type": "execute_result"
    }
   ],
   "source": [
    "df_2020"
   ]
  },
  {
   "cell_type": "code",
   "execution_count": 33,
   "metadata": {},
   "outputs": [],
   "source": [
    "df_2020=df_2020[['Title','Cast and crew']]"
   ]
  },
  {
   "cell_type": "code",
   "execution_count": 36,
   "metadata": {},
   "outputs": [
    {
     "data": {
      "text/html": [
       "<div>\n",
       "<style scoped>\n",
       "    .dataframe tbody tr th:only-of-type {\n",
       "        vertical-align: middle;\n",
       "    }\n",
       "\n",
       "    .dataframe tbody tr th {\n",
       "        vertical-align: top;\n",
       "    }\n",
       "\n",
       "    .dataframe thead th {\n",
       "        text-align: right;\n",
       "    }\n",
       "</style>\n",
       "<table border=\"1\" class=\"dataframe\">\n",
       "  <thead>\n",
       "    <tr style=\"text-align: right;\">\n",
       "      <th></th>\n",
       "      <th>Title</th>\n",
       "      <th>Cast and crew</th>\n",
       "    </tr>\n",
       "  </thead>\n",
       "  <tbody>\n",
       "    <tr>\n",
       "      <td>0</td>\n",
       "      <td>The Grudge</td>\n",
       "      <td>Nicolas Pesce (director/screenplay); Andrea Ri...</td>\n",
       "    </tr>\n",
       "    <tr>\n",
       "      <td>1</td>\n",
       "      <td>Underwater</td>\n",
       "      <td>William Eubank (director); Brian Duffield, Ada...</td>\n",
       "    </tr>\n",
       "    <tr>\n",
       "      <td>2</td>\n",
       "      <td>Like a Boss</td>\n",
       "      <td>Miguel Arteta (director); Sam Pitman, Adam Col...</td>\n",
       "    </tr>\n",
       "    <tr>\n",
       "      <td>3</td>\n",
       "      <td>Inherit the Viper</td>\n",
       "      <td>Anthony Jerjen (director); Andrew Crabtree (sc...</td>\n",
       "    </tr>\n",
       "    <tr>\n",
       "      <td>4</td>\n",
       "      <td>The Sonata</td>\n",
       "      <td>Andrew Desmond (director/screenplay); Arthur M...</td>\n",
       "    </tr>\n",
       "    <tr>\n",
       "      <td>...</td>\n",
       "      <td>...</td>\n",
       "      <td>...</td>\n",
       "    </tr>\n",
       "    <tr>\n",
       "      <td>34</td>\n",
       "      <td>Coming 2 America</td>\n",
       "      <td>Craig Brewer (director); Kenya Barris, Barry W...</td>\n",
       "    </tr>\n",
       "    <tr>\n",
       "      <td>35</td>\n",
       "      <td>The Father</td>\n",
       "      <td>Florian Zeller (director/screenplay); Christop...</td>\n",
       "    </tr>\n",
       "    <tr>\n",
       "      <td>36</td>\n",
       "      <td>Wonder Woman 1984</td>\n",
       "      <td>Patty Jenkins (director/screenplay); Geoff Joh...</td>\n",
       "    </tr>\n",
       "    <tr>\n",
       "      <td>37</td>\n",
       "      <td>News of the World</td>\n",
       "      <td>Paul Greengrass (director/screenplay); Luke Da...</td>\n",
       "    </tr>\n",
       "    <tr>\n",
       "      <td>38</td>\n",
       "      <td>NaN</td>\n",
       "      <td>NaN</td>\n",
       "    </tr>\n",
       "  </tbody>\n",
       "</table>\n",
       "<p>182 rows × 2 columns</p>\n",
       "</div>"
      ],
      "text/plain": [
       "                Title                                      Cast and crew\n",
       "0          The Grudge  Nicolas Pesce (director/screenplay); Andrea Ri...\n",
       "1          Underwater  William Eubank (director); Brian Duffield, Ada...\n",
       "2         Like a Boss  Miguel Arteta (director); Sam Pitman, Adam Col...\n",
       "3   Inherit the Viper  Anthony Jerjen (director); Andrew Crabtree (sc...\n",
       "4          The Sonata  Andrew Desmond (director/screenplay); Arthur M...\n",
       "..                ...                                                ...\n",
       "34   Coming 2 America  Craig Brewer (director); Kenya Barris, Barry W...\n",
       "35         The Father  Florian Zeller (director/screenplay); Christop...\n",
       "36  Wonder Woman 1984  Patty Jenkins (director/screenplay); Geoff Joh...\n",
       "37  News of the World  Paul Greengrass (director/screenplay); Luke Da...\n",
       "38                NaN                                                NaN\n",
       "\n",
       "[182 rows x 2 columns]"
      ]
     },
     "execution_count": 36,
     "metadata": {},
     "output_type": "execute_result"
    }
   ],
   "source": [
    "df_2020"
   ]
  },
  {
   "cell_type": "code",
   "execution_count": 64,
   "metadata": {},
   "outputs": [
    {
     "name": "stderr",
     "output_type": "stream",
     "text": [
      "C:\\Users\\shipr\\Anaconda3\\lib\\site-packages\\ipykernel_launcher.py:1: SettingWithCopyWarning: \n",
      "A value is trying to be set on a copy of a slice from a DataFrame\n",
      "\n",
      "See the caveats in the documentation: http://pandas.pydata.org/pandas-docs/stable/user_guide/indexing.html#returning-a-view-versus-a-copy\n",
      "  \"\"\"Entry point for launching an IPython kernel.\n"
     ]
    }
   ],
   "source": [
    "df_2020.dropna(inplace=True)"
   ]
  },
  {
   "cell_type": "code",
   "execution_count": 65,
   "metadata": {},
   "outputs": [
    {
     "data": {
      "text/html": [
       "<div>\n",
       "<style scoped>\n",
       "    .dataframe tbody tr th:only-of-type {\n",
       "        vertical-align: middle;\n",
       "    }\n",
       "\n",
       "    .dataframe tbody tr th {\n",
       "        vertical-align: top;\n",
       "    }\n",
       "\n",
       "    .dataframe thead th {\n",
       "        text-align: right;\n",
       "    }\n",
       "</style>\n",
       "<table border=\"1\" class=\"dataframe\">\n",
       "  <thead>\n",
       "    <tr style=\"text-align: right;\">\n",
       "      <th></th>\n",
       "      <th>Title</th>\n",
       "      <th>Cast and crew</th>\n",
       "    </tr>\n",
       "  </thead>\n",
       "  <tbody>\n",
       "    <tr>\n",
       "      <td>0</td>\n",
       "      <td>The Grudge</td>\n",
       "      <td>Nicolas Pesce (director/screenplay); Andrea Ri...</td>\n",
       "    </tr>\n",
       "    <tr>\n",
       "      <td>1</td>\n",
       "      <td>Underwater</td>\n",
       "      <td>William Eubank (director); Brian Duffield, Ada...</td>\n",
       "    </tr>\n",
       "    <tr>\n",
       "      <td>2</td>\n",
       "      <td>Like a Boss</td>\n",
       "      <td>Miguel Arteta (director); Sam Pitman, Adam Col...</td>\n",
       "    </tr>\n",
       "    <tr>\n",
       "      <td>3</td>\n",
       "      <td>Inherit the Viper</td>\n",
       "      <td>Anthony Jerjen (director); Andrew Crabtree (sc...</td>\n",
       "    </tr>\n",
       "    <tr>\n",
       "      <td>4</td>\n",
       "      <td>The Sonata</td>\n",
       "      <td>Andrew Desmond (director/screenplay); Arthur M...</td>\n",
       "    </tr>\n",
       "    <tr>\n",
       "      <td>...</td>\n",
       "      <td>...</td>\n",
       "      <td>...</td>\n",
       "    </tr>\n",
       "    <tr>\n",
       "      <td>33</td>\n",
       "      <td>West Side Story</td>\n",
       "      <td>Steven Spielberg (director); Tony Kushner (scr...</td>\n",
       "    </tr>\n",
       "    <tr>\n",
       "      <td>34</td>\n",
       "      <td>Coming 2 America</td>\n",
       "      <td>Craig Brewer (director); Kenya Barris, Barry W...</td>\n",
       "    </tr>\n",
       "    <tr>\n",
       "      <td>35</td>\n",
       "      <td>The Father</td>\n",
       "      <td>Florian Zeller (director/screenplay); Christop...</td>\n",
       "    </tr>\n",
       "    <tr>\n",
       "      <td>36</td>\n",
       "      <td>Wonder Woman 1984</td>\n",
       "      <td>Patty Jenkins (director/screenplay); Geoff Joh...</td>\n",
       "    </tr>\n",
       "    <tr>\n",
       "      <td>37</td>\n",
       "      <td>News of the World</td>\n",
       "      <td>Paul Greengrass (director/screenplay); Luke Da...</td>\n",
       "    </tr>\n",
       "  </tbody>\n",
       "</table>\n",
       "<p>181 rows × 2 columns</p>\n",
       "</div>"
      ],
      "text/plain": [
       "                Title                                      Cast and crew\n",
       "0          The Grudge  Nicolas Pesce (director/screenplay); Andrea Ri...\n",
       "1          Underwater  William Eubank (director); Brian Duffield, Ada...\n",
       "2         Like a Boss  Miguel Arteta (director); Sam Pitman, Adam Col...\n",
       "3   Inherit the Viper  Anthony Jerjen (director); Andrew Crabtree (sc...\n",
       "4          The Sonata  Andrew Desmond (director/screenplay); Arthur M...\n",
       "..                ...                                                ...\n",
       "33    West Side Story  Steven Spielberg (director); Tony Kushner (scr...\n",
       "34   Coming 2 America  Craig Brewer (director); Kenya Barris, Barry W...\n",
       "35         The Father  Florian Zeller (director/screenplay); Christop...\n",
       "36  Wonder Woman 1984  Patty Jenkins (director/screenplay); Geoff Joh...\n",
       "37  News of the World  Paul Greengrass (director/screenplay); Luke Da...\n",
       "\n",
       "[181 rows x 2 columns]"
      ]
     },
     "execution_count": 65,
     "metadata": {},
     "output_type": "execute_result"
    }
   ],
   "source": [
    "df_2020"
   ]
  },
  {
   "cell_type": "code",
   "execution_count": 66,
   "metadata": {},
   "outputs": [],
   "source": [
    "df_2020.to_csv('dataset_2020.csv',index=False)"
   ]
  },
  {
   "cell_type": "code",
   "execution_count": null,
   "metadata": {},
   "outputs": [],
   "source": []
  },
  {
   "cell_type": "code",
   "execution_count": null,
   "metadata": {},
   "outputs": [],
   "source": []
  }
 ],
 "metadata": {
  "kernelspec": {
   "display_name": "Python 3",
   "language": "python",
   "name": "python3"
  },
  "language_info": {
   "codemirror_mode": {
    "name": "ipython",
    "version": 3
   },
   "file_extension": ".py",
   "mimetype": "text/x-python",
   "name": "python",
   "nbconvert_exporter": "python",
   "pygments_lexer": "ipython3",
   "version": "3.7.4"
  }
 },
 "nbformat": 4,
 "nbformat_minor": 2
}
